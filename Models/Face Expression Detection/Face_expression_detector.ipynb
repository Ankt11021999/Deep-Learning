{
  "nbformat": 4,
  "nbformat_minor": 0,
  "metadata": {
    "colab": {
      "provenance": []
    },
    "kernelspec": {
      "name": "python3",
      "display_name": "Python 3"
    },
    "language_info": {
      "name": "python"
    },
    "accelerator": "GPU",
    "gpuClass": "standard"
  },
  "cells": [
    {
      "cell_type": "code",
      "execution_count": 2,
      "metadata": {
        "colab": {
          "base_uri": "https://localhost:8080/"
        },
        "id": "g5kOrwBx7jSS",
        "outputId": "c715903d-580b-4bce-939b-23fb2f1b5a38"
      },
      "outputs": [
        {
          "output_type": "stream",
          "name": "stdout",
          "text": [
            "--2023-03-20 17:53:35--  https://www.dropbox.com/s/si11cws2pyho1bp/archive.zip\n",
            "Resolving www.dropbox.com (www.dropbox.com)... 162.125.81.18, 2620:100:6031:18::a27d:5112\n",
            "Connecting to www.dropbox.com (www.dropbox.com)|162.125.81.18|:443... connected.\n",
            "HTTP request sent, awaiting response... 302 Found\n",
            "Location: /s/raw/si11cws2pyho1bp/archive.zip [following]\n",
            "--2023-03-20 17:53:36--  https://www.dropbox.com/s/raw/si11cws2pyho1bp/archive.zip\n",
            "Reusing existing connection to www.dropbox.com:443.\n",
            "HTTP request sent, awaiting response... 302 Found\n",
            "Location: https://uc40f00cc704a9d8f5dca7eef407.dl.dropboxusercontent.com/cd/0/inline/B4kXYVTL5oG9xIXzOJky-jA0_vU231uEQq9flnRLlxfxa-b5bOcNcGx07pyi40_jgkXdBjiEwJY8Q5wI3ga9PJcq0zRQ3E_JjprlZn4sMCHWNWApgDs9Uu9A4TexPJbMOtmxXD_a9mmEsLk60rDEubq1HpgfUJIJGuIDD7BWbmh9lg/file# [following]\n",
            "--2023-03-20 17:53:36--  https://uc40f00cc704a9d8f5dca7eef407.dl.dropboxusercontent.com/cd/0/inline/B4kXYVTL5oG9xIXzOJky-jA0_vU231uEQq9flnRLlxfxa-b5bOcNcGx07pyi40_jgkXdBjiEwJY8Q5wI3ga9PJcq0zRQ3E_JjprlZn4sMCHWNWApgDs9Uu9A4TexPJbMOtmxXD_a9mmEsLk60rDEubq1HpgfUJIJGuIDD7BWbmh9lg/file\n",
            "Resolving uc40f00cc704a9d8f5dca7eef407.dl.dropboxusercontent.com (uc40f00cc704a9d8f5dca7eef407.dl.dropboxusercontent.com)... 162.125.81.15, 2620:100:6016:15::a27d:10f\n",
            "Connecting to uc40f00cc704a9d8f5dca7eef407.dl.dropboxusercontent.com (uc40f00cc704a9d8f5dca7eef407.dl.dropboxusercontent.com)|162.125.81.15|:443... connected.\n",
            "HTTP request sent, awaiting response... 302 Found\n",
            "Location: /cd/0/inline2/B4lvhM6k3hERIBzMp07vQU5rJsviSADaCkFgQWlJSAFOIATREN-wx2rmcOai_up7Hkow77m_LsOiwTNmvBmvev9EyQn2gjkxssmyfFlycq_WyXakjw2syByZb7t_zLxZkvwVO4OvRo9XsOBb77q8IAk8X4INdcr3tX6OAO9nvnjxWq_0exd9q6Dy0jnrEVOP-bqo1NxvQ3a67wA8U6xHmVmWQYsQQQmsJt9f7NMSHGugVsTwqNFNM5nCjZ7ztRfTAFDLzkNdrZDlC1jodfFpNdq05NSr9f2zTcikJWTMqwyM6e41ycQBz8VKpkU-vIeAj4mkE0PEjdtrXBxGZ1snKcn1hk65aNh4hjwaCCpCLsoNyegiAFwiLZOrRHaZ4GoRnmLO7rhK8bTAVn-6_OJ6QijiUs0TD0U55N7c_FR4VFMWJQ/file [following]\n",
            "--2023-03-20 17:53:37--  https://uc40f00cc704a9d8f5dca7eef407.dl.dropboxusercontent.com/cd/0/inline2/B4lvhM6k3hERIBzMp07vQU5rJsviSADaCkFgQWlJSAFOIATREN-wx2rmcOai_up7Hkow77m_LsOiwTNmvBmvev9EyQn2gjkxssmyfFlycq_WyXakjw2syByZb7t_zLxZkvwVO4OvRo9XsOBb77q8IAk8X4INdcr3tX6OAO9nvnjxWq_0exd9q6Dy0jnrEVOP-bqo1NxvQ3a67wA8U6xHmVmWQYsQQQmsJt9f7NMSHGugVsTwqNFNM5nCjZ7ztRfTAFDLzkNdrZDlC1jodfFpNdq05NSr9f2zTcikJWTMqwyM6e41ycQBz8VKpkU-vIeAj4mkE0PEjdtrXBxGZ1snKcn1hk65aNh4hjwaCCpCLsoNyegiAFwiLZOrRHaZ4GoRnmLO7rhK8bTAVn-6_OJ6QijiUs0TD0U55N7c_FR4VFMWJQ/file\n",
            "Reusing existing connection to uc40f00cc704a9d8f5dca7eef407.dl.dropboxusercontent.com:443.\n",
            "HTTP request sent, awaiting response... 200 OK\n",
            "Length: 63252113 (60M) [application/zip]\n",
            "Saving to: ‘archive.zip’\n",
            "\n",
            "archive.zip         100%[===================>]  60.32M  17.2MB/s    in 3.7s    \n",
            "\n",
            "2023-03-20 17:53:41 (16.2 MB/s) - ‘archive.zip’ saved [63252113/63252113]\n",
            "\n"
          ]
        }
      ],
      "source": [
        "!wget https://www.dropbox.com/s/si11cws2pyho1bp/archive.zip"
      ]
    },
    {
      "cell_type": "code",
      "source": [
        "!unzip -q \"/content/archive.zip\""
      ],
      "metadata": {
        "id": "nMsZM4Op7tkZ"
      },
      "execution_count": 3,
      "outputs": []
    },
    {
      "cell_type": "code",
      "source": [
        "# lets import required modules\n",
        "\n",
        "import tensorflow as tf\n",
        "import numpy as np\n",
        "import matplotlib.pyplot as plt\n",
        "from pathlib import Path"
      ],
      "metadata": {
        "id": "Yi_sTVEk74wO"
      },
      "execution_count": 4,
      "outputs": []
    },
    {
      "cell_type": "code",
      "source": [
        "# Creating the Pathlib PATH objects for train and test dataset paths\n",
        "\n",
        "train_path = Path(\"/content/train\")\n",
        "test_path = Path(\"/content/test\")"
      ],
      "metadata": {
        "id": "Na13MQg18HKQ"
      },
      "execution_count": 5,
      "outputs": []
    },
    {
      "cell_type": "code",
      "source": [
        "# Getting Image paths \n",
        "\n",
        "train_image_paths = list(train_path.glob(\"*/*\"))\n",
        "train_image_paths = list(map(lambda x : str(x) , train_image_paths))\n",
        "\n",
        "train_image_paths[:10]"
      ],
      "metadata": {
        "colab": {
          "base_uri": "https://localhost:8080/"
        },
        "id": "MhX8BVAu8PA0",
        "outputId": "76235226-f79a-4dc0-c3bf-6dc21daa5b2b"
      },
      "execution_count": 6,
      "outputs": [
        {
          "output_type": "execute_result",
          "data": {
            "text/plain": [
              "['/content/train/angry/Training_35386854.jpg',\n",
              " '/content/train/angry/Training_94377760.jpg',\n",
              " '/content/train/angry/Training_80965033.jpg',\n",
              " '/content/train/angry/Training_27165790.jpg',\n",
              " '/content/train/angry/Training_14641612.jpg',\n",
              " '/content/train/angry/Training_71385343.jpg',\n",
              " '/content/train/angry/Training_88076124.jpg',\n",
              " '/content/train/angry/Training_70731802.jpg',\n",
              " '/content/train/angry/Training_803556.jpg',\n",
              " '/content/train/angry/Training_66118663.jpg']"
            ]
          },
          "metadata": {},
          "execution_count": 6
        }
      ]
    },
    {
      "cell_type": "code",
      "source": [
        "len(train_image_paths)"
      ],
      "metadata": {
        "colab": {
          "base_uri": "https://localhost:8080/"
        },
        "id": "m83Ebk2Obe_U",
        "outputId": "5bdb84e3-7a6b-42a9-e3c0-da255dacfabb"
      },
      "execution_count": 45,
      "outputs": [
        {
          "output_type": "execute_result",
          "data": {
            "text/plain": [
              "28709"
            ]
          },
          "metadata": {},
          "execution_count": 45
        }
      ]
    },
    {
      "cell_type": "code",
      "source": [
        "# Getting their respective labels \n",
        "\n",
        "def get_label(image_path):\n",
        "    return image_path.split(\"/\")[-2]\n",
        "\n",
        "train_image_labels = list(map(lambda x : get_label(x) , train_image_paths))\n",
        "train_image_labels[:10]"
      ],
      "metadata": {
        "colab": {
          "base_uri": "https://localhost:8080/"
        },
        "id": "QdSaA0x-8s-H",
        "outputId": "89144263-fabe-4946-e770-4e7ba397ae36"
      },
      "execution_count": 7,
      "outputs": [
        {
          "output_type": "execute_result",
          "data": {
            "text/plain": [
              "['angry',\n",
              " 'angry',\n",
              " 'angry',\n",
              " 'angry',\n",
              " 'angry',\n",
              " 'angry',\n",
              " 'angry',\n",
              " 'angry',\n",
              " 'angry',\n",
              " 'angry']"
            ]
          },
          "metadata": {},
          "execution_count": 7
        }
      ]
    },
    {
      "cell_type": "code",
      "source": [
        "from sklearn.preprocessing import LabelEncoder \n",
        "\n",
        "Le = LabelEncoder()\n",
        "train_image_labels = Le.fit_transform(train_image_labels)\n",
        "\n",
        "train_image_labels[:10]"
      ],
      "metadata": {
        "colab": {
          "base_uri": "https://localhost:8080/"
        },
        "id": "ET4Ej-Sb82Qg",
        "outputId": "a0d59324-b42e-49ee-e7b2-8644f3345dbb"
      },
      "execution_count": 8,
      "outputs": [
        {
          "output_type": "execute_result",
          "data": {
            "text/plain": [
              "array([0, 0, 0, 0, 0, 0, 0, 0, 0, 0])"
            ]
          },
          "metadata": {},
          "execution_count": 8
        }
      ]
    },
    {
      "cell_type": "code",
      "source": [
        "train_image_labels = tf.keras.utils.to_categorical(train_image_labels)\n",
        "\n",
        "train_image_labels[:10]"
      ],
      "metadata": {
        "colab": {
          "base_uri": "https://localhost:8080/"
        },
        "id": "WDAQBUUj9y7I",
        "outputId": "75417bc7-7d9e-4c6b-b06f-5d8ccff465f2"
      },
      "execution_count": 9,
      "outputs": [
        {
          "output_type": "execute_result",
          "data": {
            "text/plain": [
              "array([[1., 0., 0., 0., 0., 0., 0.],\n",
              "       [1., 0., 0., 0., 0., 0., 0.],\n",
              "       [1., 0., 0., 0., 0., 0., 0.],\n",
              "       [1., 0., 0., 0., 0., 0., 0.],\n",
              "       [1., 0., 0., 0., 0., 0., 0.],\n",
              "       [1., 0., 0., 0., 0., 0., 0.],\n",
              "       [1., 0., 0., 0., 0., 0., 0.],\n",
              "       [1., 0., 0., 0., 0., 0., 0.],\n",
              "       [1., 0., 0., 0., 0., 0., 0.],\n",
              "       [1., 0., 0., 0., 0., 0., 0.]], dtype=float32)"
            ]
          },
          "metadata": {},
          "execution_count": 9
        }
      ]
    },
    {
      "cell_type": "code",
      "source": [
        "from sklearn.model_selection import train_test_split \n",
        "\n",
        "Train_paths , Val_paths , Train_labels , Val_labels = train_test_split(train_image_paths , train_image_labels , train_size = 0.80)"
      ],
      "metadata": {
        "id": "OrqswEx297rC"
      },
      "execution_count": 10,
      "outputs": []
    },
    {
      "cell_type": "code",
      "source": [
        "\n",
        "classTotals = Train_labels.sum(axis=0)\n",
        "classWeight = classTotals.max() / classTotals\n",
        "\n",
        "class_weight = {e : weight for e , weight in enumerate(classWeight)}\n",
        "print(class_weight)"
      ],
      "metadata": {
        "colab": {
          "base_uri": "https://localhost:8080/"
        },
        "id": "mHiJ4kJH-BKz",
        "outputId": "a75eed5b-1fc1-40f3-ccf1-5fe25792be33"
      },
      "execution_count": 11,
      "outputs": [
        {
          "output_type": "stream",
          "name": "stdout",
          "text": [
            "{0: 1.8091507, 1: 16.036112, 2: 1.7812403, 3: 1.0, 4: 1.4414482, 5: 1.4840617, 6: 2.3027523}\n"
          ]
        }
      ]
    },
    {
      "cell_type": "code",
      "source": [
        "def load(image , label):\n",
        "    image = tf.io.read_file(image)\n",
        "    image = tf.io.decode_jpeg(image , channels = 3)\n",
        "    return image , label"
      ],
      "metadata": {
        "id": "weU3g-NV_eE_"
      },
      "execution_count": 12,
      "outputs": []
    },
    {
      "cell_type": "code",
      "source": [
        "IMG_SIZE = 96 \n",
        "BATCH_SIZE = 32\n",
        "\n",
        "# Basic Transformation\n",
        "resize = tf.keras.Sequential([\n",
        "    tf.keras.layers.experimental.preprocessing.Resizing(IMG_SIZE, IMG_SIZE)          \n",
        "])\n",
        "\n",
        "# Data Augmentation\n",
        "data_augmentation = tf.keras.Sequential([\n",
        "    tf.keras.layers.experimental.preprocessing.RandomFlip(\"horizontal\"),\n",
        "    tf.keras.layers.experimental.preprocessing.RandomRotation(0.1),\n",
        "    tf.keras.layers.experimental.preprocessing.RandomZoom(height_factor = (-0.1, -0.05))\n",
        "])"
      ],
      "metadata": {
        "id": "yRfKPfi6AGw0"
      },
      "execution_count": 13,
      "outputs": []
    },
    {
      "cell_type": "code",
      "source": [
        "AUTOTUNE = tf.data.experimental.AUTOTUNE\n",
        "def get_dataset(paths , labels , train = True):\n",
        "    image_paths = tf.convert_to_tensor(paths)\n",
        "    labels = tf.convert_to_tensor(labels)\n",
        "\n",
        "    image_dataset = tf.data.Dataset.from_tensor_slices(image_paths)\n",
        "    label_dataset = tf.data.Dataset.from_tensor_slices(labels)\n",
        "\n",
        "    dataset = tf.data.Dataset.zip((image_dataset , label_dataset))\n",
        "\n",
        "    dataset = dataset.map(lambda image , label : load(image , label))\n",
        "    dataset = dataset.map(lambda image, label: (resize(image), label) , num_parallel_calls=AUTOTUNE)\n",
        "    dataset = dataset.shuffle(1000)\n",
        "    dataset = dataset.batch(BATCH_SIZE)\n",
        "\n",
        "    if train:\n",
        "        dataset = dataset.map(lambda image, label: (data_augmentation(image), label) , num_parallel_calls=AUTOTUNE)\n",
        "    \n",
        "    dataset = dataset.repeat()\n",
        "    return dataset"
      ],
      "metadata": {
        "id": "BC-LH2h8AOFn"
      },
      "execution_count": 14,
      "outputs": []
    },
    {
      "cell_type": "code",
      "source": [
        "train_dataset = get_dataset(Train_paths , Train_labels)\n",
        "\n",
        "image , label = next(iter(train_dataset))\n",
        "print(image.shape)\n",
        "print(label.shape)"
      ],
      "metadata": {
        "colab": {
          "base_uri": "https://localhost:8080/"
        },
        "id": "gtrQ0sIMAemG",
        "outputId": "5ee7fc92-ac07-4bc9-c739-3ea0592fb0c0"
      },
      "execution_count": 15,
      "outputs": [
        {
          "output_type": "stream",
          "name": "stderr",
          "text": [
            "WARNING:tensorflow:From /usr/local/lib/python3.9/dist-packages/tensorflow/python/autograph/pyct/static_analysis/liveness.py:83: Analyzer.lamba_check (from tensorflow.python.autograph.pyct.static_analysis.liveness) is deprecated and will be removed after 2023-09-23.\n",
            "Instructions for updating:\n",
            "Lambda fuctions will be no more assumed to be used in the statement where they are used, or at least in the same block. https://github.com/tensorflow/tensorflow/issues/56089\n",
            "WARNING:tensorflow:Using a while_loop for converting RngReadAndSkip cause there is no registered converter for this op.\n",
            "WARNING:tensorflow:Using a while_loop for converting Bitcast cause there is no registered converter for this op.\n",
            "WARNING:tensorflow:Using a while_loop for converting Bitcast cause there is no registered converter for this op.\n",
            "WARNING:tensorflow:Using a while_loop for converting StatelessRandomUniformV2 cause there is no registered converter for this op.\n",
            "WARNING:tensorflow:Using a while_loop for converting ImageProjectiveTransformV3 cause there is no registered converter for this op.\n",
            "WARNING:tensorflow:Using a while_loop for converting RngReadAndSkip cause there is no registered converter for this op.\n",
            "WARNING:tensorflow:Using a while_loop for converting Bitcast cause there is no registered converter for this op.\n",
            "WARNING:tensorflow:Using a while_loop for converting Bitcast cause there is no registered converter for this op.\n",
            "WARNING:tensorflow:Using a while_loop for converting StatelessRandomUniformV2 cause there is no registered converter for this op.\n",
            "WARNING:tensorflow:Using a while_loop for converting ImageProjectiveTransformV3 cause there is no registered converter for this op.\n",
            "WARNING:tensorflow:Using a while_loop for converting RngReadAndSkip cause there is no registered converter for this op.\n",
            "WARNING:tensorflow:Using a while_loop for converting Bitcast cause there is no registered converter for this op.\n",
            "WARNING:tensorflow:Using a while_loop for converting Bitcast cause there is no registered converter for this op.\n",
            "WARNING:tensorflow:Using a while_loop for converting StatelessRandomUniformV2 cause there is no registered converter for this op.\n",
            "WARNING:tensorflow:Using a while_loop for converting ImageProjectiveTransformV3 cause there is no registered converter for this op.\n",
            "WARNING:tensorflow:Using a while_loop for converting RngReadAndSkip cause there is no registered converter for this op.\n",
            "WARNING:tensorflow:Using a while_loop for converting Bitcast cause there is no registered converter for this op.\n",
            "WARNING:tensorflow:Using a while_loop for converting Bitcast cause there is no registered converter for this op.\n",
            "WARNING:tensorflow:Using a while_loop for converting StatelessRandomUniformV2 cause there is no registered converter for this op.\n",
            "WARNING:tensorflow:Using a while_loop for converting ImageProjectiveTransformV3 cause there is no registered converter for this op.\n"
          ]
        },
        {
          "output_type": "stream",
          "name": "stdout",
          "text": [
            "(32, 96, 96, 3)\n",
            "(32, 7)\n"
          ]
        }
      ]
    },
    {
      "cell_type": "code",
      "source": [
        "print(Le.inverse_transform(np.argmax(label , axis = 1))[0])\n",
        "plt.imshow((image[0].numpy()/255).reshape(96 , 96 , 3))"
      ],
      "metadata": {
        "colab": {
          "base_uri": "https://localhost:8080/",
          "height": 303
        },
        "id": "BQ3rJ4D2BLHn",
        "outputId": "af5e55f8-916d-48a2-d7d7-fa83cf3d5cb5"
      },
      "execution_count": 16,
      "outputs": [
        {
          "output_type": "stream",
          "name": "stdout",
          "text": [
            "sad\n"
          ]
        },
        {
          "output_type": "execute_result",
          "data": {
            "text/plain": [
              "<matplotlib.image.AxesImage at 0x7fded521beb0>"
            ]
          },
          "metadata": {},
          "execution_count": 16
        },
        {
          "output_type": "display_data",
          "data": {
            "text/plain": [
              "<Figure size 432x288 with 1 Axes>"
            ],
            "image/png": "[encoded data removed]"
          },
          "metadata": {
            "needs_background": "light"
          }
        }
      ]
    },
    {
      "cell_type": "code",
      "source": [
        "# Lets apply same steps on validation data\n",
        "\n",
        "val_dataset = get_dataset(Val_paths , Val_labels , train = False)\n",
        "\n",
        "image , label = next(iter(val_dataset))\n",
        "print(image.shape)\n",
        "print(label.shape)"
      ],
      "metadata": {
        "colab": {
          "base_uri": "https://localhost:8080/"
        },
        "id": "F6qxygzwCKzR",
        "outputId": "fc80d958-7cf1-4602-a4e9-aaf1ebb11b70"
      },
      "execution_count": 17,
      "outputs": [
        {
          "output_type": "stream",
          "name": "stdout",
          "text": [
            "(32, 96, 96, 3)\n",
            "(32, 7)\n"
          ]
        }
      ]
    },
    {
      "cell_type": "code",
      "source": [
        "print(Le.inverse_transform(np.argmax(label , axis = 1))[0])\n",
        "plt.imshow((image[0].numpy()/255).reshape(96 , 96 , 3))"
      ],
      "metadata": {
        "colab": {
          "base_uri": "https://localhost:8080/",
          "height": 303
        },
        "id": "icSgt4hADRZQ",
        "outputId": "d0d00645-95cf-4b89-d670-d68f5af4f939"
      },
      "execution_count": 18,
      "outputs": [
        {
          "output_type": "stream",
          "name": "stdout",
          "text": [
            "neutral\n"
          ]
        },
        {
          "output_type": "execute_result",
          "data": {
            "text/plain": [
              "<matplotlib.image.AxesImage at 0x7fded58ec0d0>"
            ]
          },
          "metadata": {},
          "execution_count": 18
        },
        {
          "output_type": "display_data",
          "data": {
            "text/plain": [
              "<Figure size 432x288 with 1 Axes>"
            ],
            "image/png": "[encoded data removed]"
          },
          "metadata": {
            "needs_background": "light"
          }
        }
      ]
    },
    {
      "cell_type": "code",
      "source": [
        "from tensorflow.keras.applications import EfficientNetB2\n",
        "\n",
        "backbone = EfficientNetB2(\n",
        "    input_shape=(96, 96, 3),\n",
        "    include_top=False\n",
        ")\n",
        "\n",
        "model = tf.keras.Sequential([\n",
        "    backbone,\n",
        "    tf.keras.layers.GlobalAveragePooling2D(),\n",
        "    tf.keras.layers.Dropout(0.3),\n",
        "    tf.keras.layers.Dense(128, activation='relu'),\n",
        "    tf.keras.layers.Dense(7, activation='softmax')\n",
        "])\n",
        "\n",
        "model.summary()"
      ],
      "metadata": {
        "colab": {
          "base_uri": "https://localhost:8080/"
        },
        "id": "nDwXdT5eDVX7",
        "outputId": "b9c0eb41-fc6c-4b6b-c88c-e80e492fb0fb"
      },
      "execution_count": 19,
      "outputs": [
        {
          "output_type": "stream",
          "name": "stdout",
          "text": [
            "Downloading data from https://storage.googleapis.com/keras-applications/efficientnetb2_notop.h5\n",
            "31790344/31790344 [==============================] - 2s 0us/step\n",
            "Model: \"sequential_2\"\n",
            "_________________________________________________________________\n",
            " Layer (type)                Output Shape              Param #   \n",
            "=================================================================\n",
            " efficientnetb2 (Functional)  (None, 3, 3, 1408)       7768569   \n",
            "                                                                 \n",
            " global_average_pooling2d (G  (None, 1408)             0         \n",
            " lobalAveragePooling2D)                                          \n",
            "                                                                 \n",
            " dropout (Dropout)           (None, 1408)              0         \n",
            "                                                                 \n",
            " dense (Dense)               (None, 128)               180352    \n",
            "                                                                 \n",
            " dense_1 (Dense)             (None, 7)                 903       \n",
            "                                                                 \n",
            "=================================================================\n",
            "Total params: 7,949,824\n",
            "Trainable params: 7,882,249\n",
            "Non-trainable params: 67,575\n",
            "_________________________________________________________________\n"
          ]
        }
      ]
    },
    {
      "cell_type": "code",
      "source": [
        "from tensorflow.keras.applications import EfficientNetB2\n",
        "\n",
        "model = tf.keras.Sequential([\n",
        "    EfficientNetB2(input_shape=(96, 96, 3),include_top=False),\n",
        "    tf.keras.layers.GlobalAveragePooling2D(),\n",
        "    tf.keras.layers.Dropout(0.3),\n",
        "    tf.keras.layers.Dense(128, activation='relu'),\n",
        "    tf.keras.layers.Dense(7, activation='softmax')\n",
        "])"
      ],
      "metadata": {
        "id": "tt8unetqDe5b"
      },
      "execution_count": 20,
      "outputs": []
    },
    {
      "cell_type": "code",
      "source": [
        "model.summary()"
      ],
      "metadata": {
        "colab": {
          "base_uri": "https://localhost:8080/"
        },
        "id": "Pu0tPlWNEWmk",
        "outputId": "3514f8fa-bc41-45b1-8511-4dc840e4f2e0"
      },
      "execution_count": 21,
      "outputs": [
        {
          "output_type": "stream",
          "name": "stdout",
          "text": [
            "Model: \"sequential_3\"\n",
            "_________________________________________________________________\n",
            " Layer (type)                Output Shape              Param #   \n",
            "=================================================================\n",
            " efficientnetb2 (Functional)  (None, 3, 3, 1408)       7768569   \n",
            "                                                                 \n",
            " global_average_pooling2d_1   (None, 1408)             0         \n",
            " (GlobalAveragePooling2D)                                        \n",
            "                                                                 \n",
            " dropout_1 (Dropout)         (None, 1408)              0         \n",
            "                                                                 \n",
            " dense_2 (Dense)             (None, 128)               180352    \n",
            "                                                                 \n",
            " dense_3 (Dense)             (None, 7)                 903       \n",
            "                                                                 \n",
            "=================================================================\n",
            "Total params: 7,949,824\n",
            "Trainable params: 7,882,249\n",
            "Non-trainable params: 67,575\n",
            "_________________________________________________________________\n"
          ]
        }
      ]
    },
    {
      "cell_type": "code",
      "source": [
        "model.compile(\n",
        "    optimizer=tf.keras.optimizers.Adam(learning_rate=0.001),\n",
        "    loss = 'categorical_crossentropy',\n",
        "    metrics=['accuracy' , tf.keras.metrics.Precision(name='precision'),tf.keras.metrics.Recall(name='recall')]\n",
        ")"
      ],
      "metadata": {
        "id": "kpGQwizCEbjz"
      },
      "execution_count": 22,
      "outputs": []
    },
    {
      "cell_type": "code",
      "source": [
        "# Train the model\n",
        "history = model.fit(\n",
        "    train_dataset,\n",
        "    steps_per_epoch=len(Train_paths)//BATCH_SIZE,\n",
        "    epochs=8,\n",
        "    validation_data=val_dataset,\n",
        "    validation_steps = len(Val_paths)//BATCH_SIZE,\n",
        "    class_weight=class_weight\n",
        ")"
      ],
      "metadata": {
        "colab": {
          "base_uri": "https://localhost:8080/"
        },
        "id": "Jtge5qgXEm5T",
        "outputId": "766422b3-1a2d-4274-dd07-eb25c619021b"
      },
      "execution_count": 23,
      "outputs": [
        {
          "output_type": "stream",
          "name": "stdout",
          "text": [
            "Epoch 1/8\n",
            "717/717 [==============================] - 164s 142ms/step - loss: 2.7893 - accuracy: 0.3938 - precision: 0.6483 - recall: 0.1834 - val_loss: 1.2828 - val_accuracy: 0.5091 - val_precision: 0.7346 - val_recall: 0.3305\n",
            "Epoch 2/8\n",
            "717/717 [==============================] - 100s 139ms/step - loss: 2.3527 - accuracy: 0.4924 - precision: 0.6885 - recall: 0.2874 - val_loss: 1.2273 - val_accuracy: 0.5337 - val_precision: 0.7014 - val_recall: 0.3593\n",
            "Epoch 3/8\n",
            "717/717 [==============================] - 99s 138ms/step - loss: 2.1887 - accuracy: 0.5252 - precision: 0.7007 - recall: 0.3358 - val_loss: 1.1442 - val_accuracy: 0.5637 - val_precision: 0.7128 - val_recall: 0.4056\n",
            "Epoch 4/8\n",
            "717/717 [==============================] - 100s 139ms/step - loss: 2.0815 - accuracy: 0.5474 - precision: 0.7101 - recall: 0.3599 - val_loss: 1.2127 - val_accuracy: 0.5478 - val_precision: 0.6837 - val_recall: 0.3996\n",
            "Epoch 5/8\n",
            "717/717 [==============================] - 100s 139ms/step - loss: 1.9984 - accuracy: 0.5636 - precision: 0.7226 - recall: 0.3843 - val_loss: 1.2269 - val_accuracy: 0.5480 - val_precision: 0.6909 - val_recall: 0.3984\n",
            "Epoch 6/8\n",
            "717/717 [==============================] - 108s 150ms/step - loss: 1.9349 - accuracy: 0.5788 - precision: 0.7318 - recall: 0.4089 - val_loss: 1.2089 - val_accuracy: 0.5368 - val_precision: 0.7288 - val_recall: 0.3668\n",
            "Epoch 7/8\n",
            "717/717 [==============================] - 103s 144ms/step - loss: 1.8430 - accuracy: 0.5883 - precision: 0.7295 - recall: 0.4286 - val_loss: 1.0661 - val_accuracy: 0.5957 - val_precision: 0.7158 - val_recall: 0.4684\n",
            "Epoch 8/8\n",
            "717/717 [==============================] - 99s 138ms/step - loss: 1.7916 - accuracy: 0.6024 - precision: 0.7374 - recall: 0.4479 - val_loss: 1.1159 - val_accuracy: 0.5864 - val_precision: 0.6659 - val_recall: 0.4874\n"
          ]
        }
      ]
    },
    {
      "cell_type": "code",
      "source": [
        "model.layers[0].trainable = False"
      ],
      "metadata": {
        "id": "OTWaOr-EF1rl"
      },
      "execution_count": 25,
      "outputs": []
    },
    {
      "cell_type": "code",
      "source": [
        "checkpoint = tf.keras.callbacks.ModelCheckpoint(\"best_weights.h5\",verbose=1,save_best_only=True,save_weights_only = True)\n",
        "early_stop = tf.keras.callbacks.EarlyStopping(patience=4)"
      ],
      "metadata": {
        "id": "Gv9BJrhxOEgW"
      },
      "execution_count": 26,
      "outputs": []
    },
    {
      "cell_type": "code",
      "source": [
        "model.summary()"
      ],
      "metadata": {
        "colab": {
          "base_uri": "https://localhost:8080/"
        },
        "id": "-yxPgJLiO-b2",
        "outputId": "f4e1e48b-9177-4b05-bb4e-7d9e29512198"
      },
      "execution_count": 27,
      "outputs": [
        {
          "output_type": "stream",
          "name": "stdout",
          "text": [
            "Model: \"sequential_3\"\n",
            "_________________________________________________________________\n",
            " Layer (type)                Output Shape              Param #   \n",
            "=================================================================\n",
            " efficientnetb2 (Functional)  (None, 3, 3, 1408)       7768569   \n",
            "                                                                 \n",
            " global_average_pooling2d_1   (None, 1408)             0         \n",
            " (GlobalAveragePooling2D)                                        \n",
            "                                                                 \n",
            " dropout_1 (Dropout)         (None, 1408)              0         \n",
            "                                                                 \n",
            " dense_2 (Dense)             (None, 128)               180352    \n",
            "                                                                 \n",
            " dense_3 (Dense)             (None, 7)                 903       \n",
            "                                                                 \n",
            "=================================================================\n",
            "Total params: 7,949,824\n",
            "Trainable params: 181,255\n",
            "Non-trainable params: 7,768,569\n",
            "_________________________________________________________________\n"
          ]
        }
      ]
    },
    {
      "cell_type": "code",
      "source": [
        "history = model.fit(\n",
        "    train_dataset,\n",
        "    steps_per_epoch=len(Train_paths)//BATCH_SIZE,\n",
        "    epochs=8,\n",
        "    callbacks=[checkpoint , early_stop],\n",
        "    validation_data=val_dataset,\n",
        "    validation_steps = len(Val_paths)//BATCH_SIZE,\n",
        "    class_weight=class_weight\n",
        ")"
      ],
      "metadata": {
        "colab": {
          "base_uri": "https://localhost:8080/"
        },
        "id": "WVMW7nScPBOx",
        "outputId": "6b225043-83d5-4c7b-b3cf-410dc24d47e9"
      },
      "execution_count": 28,
      "outputs": [
        {
          "output_type": "stream",
          "name": "stdout",
          "text": [
            "Epoch 1/8\n",
            "717/717 [==============================] - ETA: 0s - loss: 1.7121 - accuracy: 0.6182 - precision: 0.7473 - recall: 0.4783\n",
            "Epoch 1: val_loss improved from inf to 1.17575, saving model to best_weights.h5\n",
            "717/717 [==============================] - 99s 137ms/step - loss: 1.7121 - accuracy: 0.6182 - precision: 0.7473 - recall: 0.4783 - val_loss: 1.1757 - val_accuracy: 0.5660 - val_precision: 0.6587 - val_recall: 0.4681\n",
            "Epoch 2/8\n",
            "717/717 [==============================] - ETA: 0s - loss: 1.6934 - accuracy: 0.6193 - precision: 0.7417 - recall: 0.4778\n",
            "Epoch 2: val_loss improved from 1.17575 to 1.11596, saving model to best_weights.h5\n",
            "717/717 [==============================] - 99s 138ms/step - loss: 1.6934 - accuracy: 0.6193 - precision: 0.7417 - recall: 0.4778 - val_loss: 1.1160 - val_accuracy: 0.5838 - val_precision: 0.7017 - val_recall: 0.4583\n",
            "Epoch 3/8\n",
            "717/717 [==============================] - ETA: 0s - loss: 1.6872 - accuracy: 0.6246 - precision: 0.7499 - recall: 0.4824\n",
            "Epoch 3: val_loss improved from 1.11596 to 1.11346, saving model to best_weights.h5\n",
            "717/717 [==============================] - 99s 138ms/step - loss: 1.6872 - accuracy: 0.6246 - precision: 0.7499 - recall: 0.4824 - val_loss: 1.1135 - val_accuracy: 0.5939 - val_precision: 0.6805 - val_recall: 0.4834\n",
            "Epoch 4/8\n",
            "717/717 [==============================] - ETA: 0s - loss: 1.6223 - accuracy: 0.6343 - precision: 0.7536 - recall: 0.5033\n",
            "Epoch 4: val_loss improved from 1.11346 to 1.02868, saving model to best_weights.h5\n",
            "717/717 [==============================] - 98s 137ms/step - loss: 1.6223 - accuracy: 0.6343 - precision: 0.7536 - recall: 0.5033 - val_loss: 1.0287 - val_accuracy: 0.6215 - val_precision: 0.7202 - val_recall: 0.5093\n",
            "Epoch 5/8\n",
            "717/717 [==============================] - ETA: 0s - loss: 1.5464 - accuracy: 0.6507 - precision: 0.7614 - recall: 0.5302\n",
            "Epoch 5: val_loss did not improve from 1.02868\n",
            "717/717 [==============================] - 97s 136ms/step - loss: 1.5464 - accuracy: 0.6507 - precision: 0.7614 - recall: 0.5302 - val_loss: 1.0454 - val_accuracy: 0.6088 - val_precision: 0.7004 - val_recall: 0.5031\n",
            "Epoch 6/8\n",
            "717/717 [==============================] - ETA: 0s - loss: 1.4933 - accuracy: 0.6619 - precision: 0.7681 - recall: 0.5496\n",
            "Epoch 6: val_loss did not improve from 1.02868\n",
            "717/717 [==============================] - 99s 138ms/step - loss: 1.4933 - accuracy: 0.6619 - precision: 0.7681 - recall: 0.5496 - val_loss: 1.1274 - val_accuracy: 0.5976 - val_precision: 0.6815 - val_recall: 0.5106\n",
            "Epoch 7/8\n",
            "717/717 [==============================] - ETA: 0s - loss: 1.4559 - accuracy: 0.6723 - precision: 0.7738 - recall: 0.5597\n",
            "Epoch 7: val_loss did not improve from 1.02868\n",
            "717/717 [==============================] - 98s 137ms/step - loss: 1.4559 - accuracy: 0.6723 - precision: 0.7738 - recall: 0.5597 - val_loss: 1.1094 - val_accuracy: 0.6100 - val_precision: 0.6773 - val_recall: 0.5395\n",
            "Epoch 8/8\n",
            "717/717 [==============================] - ETA: 0s - loss: 1.4352 - accuracy: 0.6735 - precision: 0.7720 - recall: 0.5667\n",
            "Epoch 8: val_loss did not improve from 1.02868\n",
            "717/717 [==============================] - 97s 136ms/step - loss: 1.4352 - accuracy: 0.6735 - precision: 0.7720 - recall: 0.5667 - val_loss: 1.0724 - val_accuracy: 0.6117 - val_precision: 0.6865 - val_recall: 0.5260\n"
          ]
        }
      ]
    },
    {
      "cell_type": "code",
      "source": [
        "# Lets create Tesing dataset just like how we did for Training dataset\n",
        "\n",
        "test_image_paths = list(test_path.glob(\"*/*\"))\n",
        "test_image_paths = list(map(lambda x : str(x) , test_image_paths))\n",
        "test_labels = list(map(lambda x : get_label(x) , test_image_paths))\n",
        "\n",
        "test_labels = Le.transform(test_labels)\n",
        "test_labels = tf.keras.utils.to_categorical(test_labels)\n"
      ],
      "metadata": {
        "id": "n0rBKPImPGZh"
      },
      "execution_count": 29,
      "outputs": []
    },
    {
      "cell_type": "code",
      "source": [
        "AUTOTUNE = tf.data.experimental.AUTOTUNE\n",
        "def get_test_dataset(paths , labels ):\n",
        "    image_paths = tf.convert_to_tensor(paths)\n",
        "    labels = tf.convert_to_tensor(labels)\n",
        "\n",
        "    image_dataset = tf.data.Dataset.from_tensor_slices(image_paths)\n",
        "    label_dataset = tf.data.Dataset.from_tensor_slices(labels)\n",
        "\n",
        "    dataset = tf.data.Dataset.zip((image_dataset , label_dataset))\n",
        "\n",
        "    dataset = dataset.map(lambda image , label : load(image , label))\n",
        "    dataset = dataset.map(lambda image, label: (resize(image), label) , num_parallel_calls=AUTOTUNE)\n",
        "    dataset = dataset.batch(BATCH_SIZE)\n",
        "\n",
        "    return dataset"
      ],
      "metadata": {
        "id": "VGoqOvRuV_0W"
      },
      "execution_count": 30,
      "outputs": []
    },
    {
      "cell_type": "code",
      "source": [
        "test_dataset = get_test_dataset(test_image_paths, test_labels)"
      ],
      "metadata": {
        "id": "cYD9WbX9Wx-4"
      },
      "execution_count": 31,
      "outputs": []
    },
    {
      "cell_type": "code",
      "source": [
        "image , label = next(iter(test_dataset))\n",
        "print(image.shape)\n",
        "print(label.shape)"
      ],
      "metadata": {
        "colab": {
          "base_uri": "https://localhost:8080/"
        },
        "id": "iy5YVVouW7mX",
        "outputId": "d02d3438-0cf4-4a81-8449-8729766cddee"
      },
      "execution_count": 32,
      "outputs": [
        {
          "output_type": "stream",
          "name": "stdout",
          "text": [
            "(32, 96, 96, 3)\n",
            "(32, 7)\n"
          ]
        }
      ]
    },
    {
      "cell_type": "code",
      "source": [
        "print(Le.inverse_transform(np.argmax(label , axis = 1))[0])\n",
        "plt.imshow((image[0].numpy()/255).reshape(96 , 96 , 3))"
      ],
      "metadata": {
        "colab": {
          "base_uri": "https://localhost:8080/",
          "height": 303
        },
        "id": "dFgcHu5zXAbt",
        "outputId": "f7fc3c58-fa0c-49ce-bac2-9123742beb35"
      },
      "execution_count": 33,
      "outputs": [
        {
          "output_type": "stream",
          "name": "stdout",
          "text": [
            "angry\n"
          ]
        },
        {
          "output_type": "execute_result",
          "data": {
            "text/plain": [
              "<matplotlib.image.AxesImage at 0x7fdeb5b8b2e0>"
            ]
          },
          "metadata": {},
          "execution_count": 33
        },
        {
          "output_type": "display_data",
          "data": {
            "text/plain": [
              "<Figure size 432x288 with 1 Axes>"
            ],
            "image/png": "[encoded data removed]"
          },
          "metadata": {
            "needs_background": "light"
          }
        }
      ]
    },
    {
      "cell_type": "code",
      "source": [
        "loss, acc, prec, rec = model.evaluate(test_dataset)\n",
        "\n",
        "print(\" Testing Acc : \" , acc)\n",
        "print(\" Testing Precision \" , prec)\n",
        "print(\" Testing Recall \" , rec)"
      ],
      "metadata": {
        "colab": {
          "base_uri": "https://localhost:8080/"
        },
        "id": "qI_4VsybXFKr",
        "outputId": "5f2a437b-ab64-4c11-f4f9-81aba4d72572"
      },
      "execution_count": 34,
      "outputs": [
        {
          "output_type": "stream",
          "name": "stdout",
          "text": [
            "225/225 [==============================] - 10s 44ms/step - loss: 1.0797 - accuracy: 0.6073 - precision: 0.6839 - recall: 0.5274\n",
            " Testing Acc :  0.607272207736969\n",
            " Testing Precision  0.6838873028755188\n",
            " Testing Recall  0.5274449586868286\n"
          ]
        }
      ]
    },
    {
      "cell_type": "code",
      "source": [
        "# Save Model\n",
        "model.save(\"FacialExpressionModel.h5\")"
      ],
      "metadata": {
        "id": "GAQZO9z1XMrS"
      },
      "execution_count": null,
      "outputs": []
    },
    {
      "cell_type": "code",
      "source": [
        "# Save Label Encoder \n",
        "import pickle\n",
        "\n",
        "def save_object(obj , name):\n",
        "    pickle_obj = open(f\"{name}.pck\",\"wb\")\n",
        "    pickle.dump(obj, pickle_obj)\n",
        "    pickle_obj.close()"
      ],
      "metadata": {
        "id": "ehIAcAPJXT71"
      },
      "execution_count": 36,
      "outputs": []
    },
    {
      "cell_type": "code",
      "source": [],
      "metadata": {
        "id": "0bZ0hmp0ZpOm"
      },
      "execution_count": null,
      "outputs": []
    }
  ]
}