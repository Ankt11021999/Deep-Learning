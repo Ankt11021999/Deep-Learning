{
  "nbformat": 4,
  "nbformat_minor": 0,
  "metadata": {
    "colab": {
      "provenance": []
    },
    "kernelspec": {
      "name": "python3",
      "display_name": "Python 3"
    },
    "language_info": {
      "name": "python"
    },
    "accelerator": "GPU",
    "gpuClass": "standard"
  },
  "cells": [
    {
      "cell_type": "code",
      "execution_count": 1,
      "metadata": {
        "colab": {
          "base_uri": "https://localhost:8080/"
        },
        "id": "g5kOrwBx7jSS",
        "outputId": "5ea2f122-91ea-4e07-98bf-9377b968a4ff"
      },
      "outputs": [
        {
          "output_type": "stream",
          "name": "stdout",
          "text": [
            "--2023-03-21 06:02:44--  https://www.dropbox.com/s/si11cws2pyho1bp/archive.zip\n",
            "Resolving www.dropbox.com (www.dropbox.com)... 162.125.81.18, 2620:100:6020:18::a27d:4012\n",
            "Connecting to www.dropbox.com (www.dropbox.com)|162.125.81.18|:443... connected.\n",
            "HTTP request sent, awaiting response... 302 Found\n",
            "Location: /s/raw/si11cws2pyho1bp/archive.zip [following]\n",
            "--2023-03-21 06:02:44--  https://www.dropbox.com/s/raw/si11cws2pyho1bp/archive.zip\n",
            "Reusing existing connection to www.dropbox.com:443.\n",
            "HTTP request sent, awaiting response... 302 Found\n",
            "Location: https://uccb9719b063ac9d695fac9ff9e0.dl.dropboxusercontent.com/cd/0/inline/B4rWk1j1TbEpgUZyb0lAE5Z2vUOOkKBegY5_LwxMmx_MOsRghyMZHDoaCFosUZXDO5-PkdYpB7_dxgdcbIfsyTAwBsUBmtZSMICdHiqzHgajMOSWxPRjRWFDlsWNKEGku0tN1RGf4EaCbE4GpDJzFgQI1YbdUo9mxwn9eH3iho8M_w/file# [following]\n",
            "--2023-03-21 06:02:45--  https://uccb9719b063ac9d695fac9ff9e0.dl.dropboxusercontent.com/cd/0/inline/B4rWk1j1TbEpgUZyb0lAE5Z2vUOOkKBegY5_LwxMmx_MOsRghyMZHDoaCFosUZXDO5-PkdYpB7_dxgdcbIfsyTAwBsUBmtZSMICdHiqzHgajMOSWxPRjRWFDlsWNKEGku0tN1RGf4EaCbE4GpDJzFgQI1YbdUo9mxwn9eH3iho8M_w/file\n",
            "Resolving uccb9719b063ac9d695fac9ff9e0.dl.dropboxusercontent.com (uccb9719b063ac9d695fac9ff9e0.dl.dropboxusercontent.com)... 162.125.81.15, 2620:100:6031:15::a27d:510f\n",
            "Connecting to uccb9719b063ac9d695fac9ff9e0.dl.dropboxusercontent.com (uccb9719b063ac9d695fac9ff9e0.dl.dropboxusercontent.com)|162.125.81.15|:443... connected.\n",
            "HTTP request sent, awaiting response... 302 Found\n",
            "Location: /cd/0/inline2/B4oDbjWNYQNttmPvaxQ5CJM0u23nLQ_s0HxaWQzPeaUIra863JV2bZGmJSHbTkemDTw845eSGTK4bEZX4CmIPvAlQvLSy6ZOoSAofQGeMTm9ruDlAdT5M9Xgfmy3ZPG5FjD3XiyD7eVxi47uvcJ46PGUJjiVSDj5KLHF5YIBhWhwpoGenutNw60yxsJeytBh9Dd7pUnhg9eLI_yXXg2wE-Y5sHHzBjlzIdNWPEmtc0XWdv1zfxVkmvQ0IJiXPN9M2OTCnCdAuUetRs9wtMEAPopATuCssVGCxEDSaR1n_xrlSeoR2ypMBmWiLglsQd0Mu0mcttMfbQGIVWY_cDMFaCDw0gh3RcAFI-g8oovmkh9aZMmZnpJ6LT7oVAsl01lt-BTv0uF3guyb3xmcbTvRnPQUau-J1W-GTqje20anbzQ0Pg/file [following]\n",
            "--2023-03-21 06:02:45--  https://uccb9719b063ac9d695fac9ff9e0.dl.dropboxusercontent.com/cd/0/inline2/B4oDbjWNYQNttmPvaxQ5CJM0u23nLQ_s0HxaWQzPeaUIra863JV2bZGmJSHbTkemDTw845eSGTK4bEZX4CmIPvAlQvLSy6ZOoSAofQGeMTm9ruDlAdT5M9Xgfmy3ZPG5FjD3XiyD7eVxi47uvcJ46PGUJjiVSDj5KLHF5YIBhWhwpoGenutNw60yxsJeytBh9Dd7pUnhg9eLI_yXXg2wE-Y5sHHzBjlzIdNWPEmtc0XWdv1zfxVkmvQ0IJiXPN9M2OTCnCdAuUetRs9wtMEAPopATuCssVGCxEDSaR1n_xrlSeoR2ypMBmWiLglsQd0Mu0mcttMfbQGIVWY_cDMFaCDw0gh3RcAFI-g8oovmkh9aZMmZnpJ6LT7oVAsl01lt-BTv0uF3guyb3xmcbTvRnPQUau-J1W-GTqje20anbzQ0Pg/file\n",
            "Reusing existing connection to uccb9719b063ac9d695fac9ff9e0.dl.dropboxusercontent.com:443.\n",
            "HTTP request sent, awaiting response... 200 OK\n",
            "Length: 63252113 (60M) [application/zip]\n",
            "Saving to: ‘archive.zip’\n",
            "\n",
            "archive.zip         100%[===================>]  60.32M  16.8MB/s    in 3.9s    \n",
            "\n",
            "2023-03-21 06:02:50 (15.6 MB/s) - ‘archive.zip’ saved [63252113/63252113]\n",
            "\n"
          ]
        }
      ],
      "source": [
        "!wget https://www.dropbox.com/s/si11cws2pyho1bp/archive.zip"
      ]
    },
    {
      "cell_type": "code",
      "source": [
        "!unzip -q \"/content/archive.zip\""
      ],
      "metadata": {
        "id": "nMsZM4Op7tkZ"
      },
      "execution_count": 2,
      "outputs": []
    },
    {
      "cell_type": "code",
      "source": [
        "# lets import required modules\n",
        "\n",
        "import tensorflow as tf\n",
        "import numpy as np\n",
        "import matplotlib.pyplot as plt\n",
        "from pathlib import Path"
      ],
      "metadata": {
        "id": "Yi_sTVEk74wO"
      },
      "execution_count": 3,
      "outputs": []
    },
    {
      "cell_type": "code",
      "source": [
        "# Creating the Pathlib PATH objects for train and test dataset paths\n",
        "\n",
        "train_path = Path(\"/content/train\")\n",
        "test_path = Path(\"/content/test\")"
      ],
      "metadata": {
        "id": "Na13MQg18HKQ"
      },
      "execution_count": 4,
      "outputs": []
    },
    {
      "cell_type": "code",
      "source": [
        "# Getting Image paths \n",
        "\n",
        "train_image_paths = list(train_path.glob(\"*/*\"))\n",
        "train_image_paths = list(map(lambda x : str(x) , train_image_paths))\n",
        "\n",
        "train_image_paths[:10]"
      ],
      "metadata": {
        "colab": {
          "base_uri": "https://localhost:8080/"
        },
        "id": "MhX8BVAu8PA0",
        "outputId": "582755e4-f02d-458d-fc2b-3945c4367bdb"
      },
      "execution_count": 5,
      "outputs": [
        {
          "output_type": "execute_result",
          "data": {
            "text/plain": [
              "['/content/train/angry/Training_35386854.jpg',\n",
              " '/content/train/angry/Training_94377760.jpg',\n",
              " '/content/train/angry/Training_80965033.jpg',\n",
              " '/content/train/angry/Training_27165790.jpg',\n",
              " '/content/train/angry/Training_14641612.jpg',\n",
              " '/content/train/angry/Training_71385343.jpg',\n",
              " '/content/train/angry/Training_88076124.jpg',\n",
              " '/content/train/angry/Training_70731802.jpg',\n",
              " '/content/train/angry/Training_803556.jpg',\n",
              " '/content/train/angry/Training_66118663.jpg']"
            ]
          },
          "metadata": {},
          "execution_count": 5
        }
      ]
    },
    {
      "cell_type": "code",
      "source": [
        "len(train_image_paths)"
      ],
      "metadata": {
        "colab": {
          "base_uri": "https://localhost:8080/"
        },
        "id": "m83Ebk2Obe_U",
        "outputId": "51c78374-1a81-4548-e20d-917f820d58ea"
      },
      "execution_count": 6,
      "outputs": [
        {
          "output_type": "execute_result",
          "data": {
            "text/plain": [
              "28709"
            ]
          },
          "metadata": {},
          "execution_count": 6
        }
      ]
    },
    {
      "cell_type": "code",
      "source": [
        "# Getting their respective labels \n",
        "\n",
        "def get_label(image_path):\n",
        "    return image_path.split(\"/\")[-2]\n",
        "\n",
        "train_image_labels = list(map(lambda x : get_label(x) , train_image_paths))\n",
        "train_image_labels[:10]"
      ],
      "metadata": {
        "colab": {
          "base_uri": "https://localhost:8080/"
        },
        "id": "QdSaA0x-8s-H",
        "outputId": "0b3ac71c-f0c1-4a6c-8544-f0e91861e60a"
      },
      "execution_count": 7,
      "outputs": [
        {
          "output_type": "execute_result",
          "data": {
            "text/plain": [
              "['angry',\n",
              " 'angry',\n",
              " 'angry',\n",
              " 'angry',\n",
              " 'angry',\n",
              " 'angry',\n",
              " 'angry',\n",
              " 'angry',\n",
              " 'angry',\n",
              " 'angry']"
            ]
          },
          "metadata": {},
          "execution_count": 7
        }
      ]
    },
    {
      "cell_type": "code",
      "source": [
        "from sklearn.preprocessing import LabelEncoder \n",
        "\n",
        "Le = LabelEncoder()\n",
        "train_image_labels = Le.fit_transform(train_image_labels)\n",
        "\n",
        "train_image_labels[:10]"
      ],
      "metadata": {
        "colab": {
          "base_uri": "https://localhost:8080/"
        },
        "id": "ET4Ej-Sb82Qg",
        "outputId": "31304f8f-6047-4a5e-d2b9-cf0dad2c7265"
      },
      "execution_count": 8,
      "outputs": [
        {
          "output_type": "execute_result",
          "data": {
            "text/plain": [
              "array([0, 0, 0, 0, 0, 0, 0, 0, 0, 0])"
            ]
          },
          "metadata": {},
          "execution_count": 8
        }
      ]
    },
    {
      "cell_type": "code",
      "source": [
        "train_image_labels = tf.keras.utils.to_categorical(train_image_labels)\n",
        "\n",
        "train_image_labels[:10]"
      ],
      "metadata": {
        "colab": {
          "base_uri": "https://localhost:8080/"
        },
        "id": "WDAQBUUj9y7I",
        "outputId": "620cd7bc-3795-4b80-d0ce-9b439367fb3b"
      },
      "execution_count": 9,
      "outputs": [
        {
          "output_type": "execute_result",
          "data": {
            "text/plain": [
              "array([[1., 0., 0., 0., 0., 0., 0.],\n",
              "       [1., 0., 0., 0., 0., 0., 0.],\n",
              "       [1., 0., 0., 0., 0., 0., 0.],\n",
              "       [1., 0., 0., 0., 0., 0., 0.],\n",
              "       [1., 0., 0., 0., 0., 0., 0.],\n",
              "       [1., 0., 0., 0., 0., 0., 0.],\n",
              "       [1., 0., 0., 0., 0., 0., 0.],\n",
              "       [1., 0., 0., 0., 0., 0., 0.],\n",
              "       [1., 0., 0., 0., 0., 0., 0.],\n",
              "       [1., 0., 0., 0., 0., 0., 0.]], dtype=float32)"
            ]
          },
          "metadata": {},
          "execution_count": 9
        }
      ]
    },
    {
      "cell_type": "code",
      "source": [
        "from sklearn.model_selection import train_test_split \n",
        "\n",
        "Train_paths , Val_paths , Train_labels , Val_labels = train_test_split(train_image_paths , train_image_labels , train_size = 0.80)"
      ],
      "metadata": {
        "id": "OrqswEx297rC"
      },
      "execution_count": 10,
      "outputs": []
    },
    {
      "cell_type": "code",
      "source": [
        "\n",
        "classTotals = Train_labels.sum(axis=0)\n",
        "classWeight = classTotals.max() / classTotals\n",
        "\n",
        "class_weight = {e : weight for e , weight in enumerate(classWeight)}\n",
        "print(class_weight)"
      ],
      "metadata": {
        "colab": {
          "base_uri": "https://localhost:8080/"
        },
        "id": "mHiJ4kJH-BKz",
        "outputId": "29e9cc88-9181-4310-de9d-fb8adf289022"
      },
      "execution_count": 11,
      "outputs": [
        {
          "output_type": "stream",
          "name": "stdout",
          "text": [
            "{0: 1.8260322, 1: 16.139277, 2: 1.7718655, 3: 1.0, 4: 1.4841188, 5: 1.4765545, 6: 2.2784114}\n"
          ]
        }
      ]
    },
    {
      "cell_type": "code",
      "source": [
        "def load(image , label):\n",
        "    image = tf.io.read_file(image)\n",
        "    image = tf.io.decode_jpeg(image , channels = 3)\n",
        "    return image , label"
      ],
      "metadata": {
        "id": "weU3g-NV_eE_"
      },
      "execution_count": 12,
      "outputs": []
    },
    {
      "cell_type": "code",
      "source": [
        "IMG_SIZE = 96 \n",
        "BATCH_SIZE = 32\n",
        "\n",
        "# Basic Transformation\n",
        "resize = tf.keras.Sequential([\n",
        "    tf.keras.layers.experimental.preprocessing.Resizing(IMG_SIZE, IMG_SIZE)          \n",
        "])\n",
        "\n",
        "# Data Augmentation\n",
        "data_augmentation = tf.keras.Sequential([\n",
        "    tf.keras.layers.experimental.preprocessing.RandomFlip(\"horizontal\"),\n",
        "    tf.keras.layers.experimental.preprocessing.RandomRotation(0.1),\n",
        "    tf.keras.layers.experimental.preprocessing.RandomZoom(height_factor = (-0.1, -0.05))\n",
        "])"
      ],
      "metadata": {
        "id": "yRfKPfi6AGw0"
      },
      "execution_count": 13,
      "outputs": []
    },
    {
      "cell_type": "code",
      "source": [
        "AUTOTUNE = tf.data.experimental.AUTOTUNE\n",
        "def get_dataset(paths , labels , train = True):\n",
        "    image_paths = tf.convert_to_tensor(paths)\n",
        "    labels = tf.convert_to_tensor(labels)\n",
        "\n",
        "    image_dataset = tf.data.Dataset.from_tensor_slices(image_paths)\n",
        "    label_dataset = tf.data.Dataset.from_tensor_slices(labels)\n",
        "\n",
        "    dataset = tf.data.Dataset.zip((image_dataset , label_dataset))\n",
        "\n",
        "    dataset = dataset.map(lambda image , label : load(image , label))\n",
        "    dataset = dataset.map(lambda image, label: (resize(image), label) , num_parallel_calls=AUTOTUNE)\n",
        "    dataset = dataset.shuffle(1000)\n",
        "    dataset = dataset.batch(BATCH_SIZE)\n",
        "\n",
        "    if train:\n",
        "        dataset = dataset.map(lambda image, label: (data_augmentation(image), label) , num_parallel_calls=AUTOTUNE)\n",
        "    \n",
        "    dataset = dataset.repeat()\n",
        "    return dataset"
      ],
      "metadata": {
        "id": "BC-LH2h8AOFn"
      },
      "execution_count": 14,
      "outputs": []
    },
    {
      "cell_type": "code",
      "source": [
        "train_dataset = get_dataset(Train_paths , Train_labels)\n",
        "\n",
        "image , label = next(iter(train_dataset))\n",
        "print(image.shape)\n",
        "print(label.shape)"
      ],
      "metadata": {
        "colab": {
          "base_uri": "https://localhost:8080/"
        },
        "id": "gtrQ0sIMAemG",
        "outputId": "256f14cb-4aa6-4239-f373-b7449690992a"
      },
      "execution_count": 15,
      "outputs": [
        {
          "output_type": "stream",
          "name": "stderr",
          "text": [
            "WARNING:tensorflow:From /usr/local/lib/python3.9/dist-packages/tensorflow/python/autograph/pyct/static_analysis/liveness.py:83: Analyzer.lamba_check (from tensorflow.python.autograph.pyct.static_analysis.liveness) is deprecated and will be removed after 2023-09-23.\n",
            "Instructions for updating:\n",
            "Lambda fuctions will be no more assumed to be used in the statement where they are used, or at least in the same block. https://github.com/tensorflow/tensorflow/issues/56089\n",
            "WARNING:tensorflow:Using a while_loop for converting RngReadAndSkip cause there is no registered converter for this op.\n",
            "WARNING:tensorflow:Using a while_loop for converting Bitcast cause there is no registered converter for this op.\n",
            "WARNING:tensorflow:Using a while_loop for converting Bitcast cause there is no registered converter for this op.\n",
            "WARNING:tensorflow:Using a while_loop for converting StatelessRandomUniformV2 cause there is no registered converter for this op.\n",
            "WARNING:tensorflow:Using a while_loop for converting ImageProjectiveTransformV3 cause there is no registered converter for this op.\n",
            "WARNING:tensorflow:Using a while_loop for converting RngReadAndSkip cause there is no registered converter for this op.\n",
            "WARNING:tensorflow:Using a while_loop for converting Bitcast cause there is no registered converter for this op.\n",
            "WARNING:tensorflow:Using a while_loop for converting Bitcast cause there is no registered converter for this op.\n",
            "WARNING:tensorflow:Using a while_loop for converting StatelessRandomUniformV2 cause there is no registered converter for this op.\n",
            "WARNING:tensorflow:Using a while_loop for converting ImageProjectiveTransformV3 cause there is no registered converter for this op.\n",
            "WARNING:tensorflow:Using a while_loop for converting RngReadAndSkip cause there is no registered converter for this op.\n",
            "WARNING:tensorflow:Using a while_loop for converting Bitcast cause there is no registered converter for this op.\n",
            "WARNING:tensorflow:Using a while_loop for converting Bitcast cause there is no registered converter for this op.\n",
            "WARNING:tensorflow:Using a while_loop for converting StatelessRandomUniformV2 cause there is no registered converter for this op.\n",
            "WARNING:tensorflow:Using a while_loop for converting ImageProjectiveTransformV3 cause there is no registered converter for this op.\n",
            "WARNING:tensorflow:Using a while_loop for converting RngReadAndSkip cause there is no registered converter for this op.\n",
            "WARNING:tensorflow:Using a while_loop for converting Bitcast cause there is no registered converter for this op.\n",
            "WARNING:tensorflow:Using a while_loop for converting Bitcast cause there is no registered converter for this op.\n",
            "WARNING:tensorflow:Using a while_loop for converting StatelessRandomUniformV2 cause there is no registered converter for this op.\n",
            "WARNING:tensorflow:Using a while_loop for converting ImageProjectiveTransformV3 cause there is no registered converter for this op.\n"
          ]
        },
        {
          "output_type": "stream",
          "name": "stdout",
          "text": [
            "(32, 96, 96, 3)\n",
            "(32, 7)\n"
          ]
        }
      ]
    },
    {
      "cell_type": "code",
      "source": [
        "print(Le.inverse_transform(np.argmax(label , axis = 1))[0])\n",
        "plt.imshow((image[0].numpy()/255).reshape(96 , 96 , 3))"
      ],
      "metadata": {
        "colab": {
          "base_uri": "https://localhost:8080/",
          "height": 303
        },
        "id": "BQ3rJ4D2BLHn",
        "outputId": "7b74c84b-f8d8-4b29-a2a4-49bb16650dff"
      },
      "execution_count": 16,
      "outputs": [
        {
          "output_type": "stream",
          "name": "stdout",
          "text": [
            "sad\n"
          ]
        },
        {
          "output_type": "execute_result",
          "data": {
            "text/plain": [
              "<matplotlib.image.AxesImage at 0x7fd5fb555f10>"
            ]
          },
          "metadata": {},
          "execution_count": 16
        },
        {
          "output_type": "display_data",
          "data": {
            "text/plain": [
              "<Figure size 432x288 with 1 Axes>"
            ],
            "image/png": "[encoded data removed]"
          },
          "metadata": {
            "needs_background": "light"
          }
        }
      ]
    },
    {
      "cell_type": "code",
      "source": [
        "# Lets apply same steps on validation data\n",
        "\n",
        "val_dataset = get_dataset(Val_paths , Val_labels , train = False)\n",
        "\n",
        "image , label = next(iter(val_dataset))\n",
        "print(image.shape)\n",
        "print(label.shape)"
      ],
      "metadata": {
        "colab": {
          "base_uri": "https://localhost:8080/"
        },
        "id": "F6qxygzwCKzR",
        "outputId": "dcc2bceb-8bfa-422c-eb11-b7e600b59f7e"
      },
      "execution_count": 17,
      "outputs": [
        {
          "output_type": "stream",
          "name": "stdout",
          "text": [
            "(32, 96, 96, 3)\n",
            "(32, 7)\n"
          ]
        }
      ]
    },
    {
      "cell_type": "code",
      "source": [
        "print(Le.inverse_transform(np.argmax(label , axis = 1))[0])\n",
        "plt.imshow((image[0].numpy()/255).reshape(96 , 96 , 3))"
      ],
      "metadata": {
        "colab": {
          "base_uri": "https://localhost:8080/",
          "height": 303
        },
        "id": "icSgt4hADRZQ",
        "outputId": "10ab9f0d-4620-4185-f146-f9f13f5cb0c7"
      },
      "execution_count": 18,
      "outputs": [
        {
          "output_type": "stream",
          "name": "stdout",
          "text": [
            "sad\n"
          ]
        },
        {
          "output_type": "execute_result",
          "data": {
            "text/plain": [
              "<matplotlib.image.AxesImage at 0x7fd5fb6814c0>"
            ]
          },
          "metadata": {},
          "execution_count": 18
        },
        {
          "output_type": "display_data",
          "data": {
            "text/plain": [
              "<Figure size 432x288 with 1 Axes>"
            ],
            "image/png": "[encoded data removed]"
          },
          "metadata": {
            "needs_background": "light"
          }
        }
      ]
    },
    {
      "cell_type": "code",
      "source": [
        "from tensorflow.keras.applications import EfficientNetB2\n",
        "\n",
        "backbone = EfficientNetB2(\n",
        "    input_shape=(96, 96, 3),\n",
        "    include_top=False\n",
        ")\n",
        "\n",
        "model = tf.keras.Sequential([\n",
        "    backbone,\n",
        "    tf.keras.layers.GlobalAveragePooling2D(),\n",
        "    tf.keras.layers.Dropout(0.3),\n",
        "    tf.keras.layers.Dense(128, activation='relu'),\n",
        "    tf.keras.layers.Dense(7, activation='softmax')\n",
        "])\n",
        "\n",
        "model.summary()"
      ],
      "metadata": {
        "colab": {
          "base_uri": "https://localhost:8080/"
        },
        "id": "nDwXdT5eDVX7",
        "outputId": "b676da15-f27e-4ae9-fd28-2c36fbbdb117"
      },
      "execution_count": 19,
      "outputs": [
        {
          "output_type": "stream",
          "name": "stdout",
          "text": [
            "Downloading data from https://storage.googleapis.com/keras-applications/efficientnetb2_notop.h5\n",
            "31790344/31790344 [==============================] - 2s 0us/step\n",
            "Model: \"sequential_2\"\n",
            "_________________________________________________________________\n",
            " Layer (type)                Output Shape              Param #   \n",
            "=================================================================\n",
            " efficientnetb2 (Functional)  (None, 3, 3, 1408)       7768569   \n",
            "                                                                 \n",
            " global_average_pooling2d (G  (None, 1408)             0         \n",
            " lobalAveragePooling2D)                                          \n",
            "                                                                 \n",
            " dropout (Dropout)           (None, 1408)              0         \n",
            "                                                                 \n",
            " dense (Dense)               (None, 128)               180352    \n",
            "                                                                 \n",
            " dense_1 (Dense)             (None, 7)                 903       \n",
            "                                                                 \n",
            "=================================================================\n",
            "Total params: 7,949,824\n",
            "Trainable params: 7,882,249\n",
            "Non-trainable params: 67,575\n",
            "_________________________________________________________________\n"
          ]
        }
      ]
    },
    {
      "cell_type": "code",
      "source": [
        "from tensorflow.keras.applications import EfficientNetB2\n",
        "\n",
        "model = tf.keras.Sequential([\n",
        "    EfficientNetB2(input_shape=(96, 96, 3),include_top=False),\n",
        "    tf.keras.layers.GlobalAveragePooling2D(),\n",
        "    tf.keras.layers.Dropout(0.3),\n",
        "    tf.keras.layers.Dense(128, activation='relu'),\n",
        "    tf.keras.layers.Dense(7, activation='softmax')\n",
        "])"
      ],
      "metadata": {
        "id": "tt8unetqDe5b"
      },
      "execution_count": 20,
      "outputs": []
    },
    {
      "cell_type": "code",
      "source": [
        "model.summary()"
      ],
      "metadata": {
        "colab": {
          "base_uri": "https://localhost:8080/"
        },
        "id": "Pu0tPlWNEWmk",
        "outputId": "bc14d223-b4ec-4f10-aca2-787090ee87a2"
      },
      "execution_count": 21,
      "outputs": [
        {
          "output_type": "stream",
          "name": "stdout",
          "text": [
            "Model: \"sequential_3\"\n",
            "_________________________________________________________________\n",
            " Layer (type)                Output Shape              Param #   \n",
            "=================================================================\n",
            " efficientnetb2 (Functional)  (None, 3, 3, 1408)       7768569   \n",
            "                                                                 \n",
            " global_average_pooling2d_1   (None, 1408)             0         \n",
            " (GlobalAveragePooling2D)                                        \n",
            "                                                                 \n",
            " dropout_1 (Dropout)         (None, 1408)              0         \n",
            "                                                                 \n",
            " dense_2 (Dense)             (None, 128)               180352    \n",
            "                                                                 \n",
            " dense_3 (Dense)             (None, 7)                 903       \n",
            "                                                                 \n",
            "=================================================================\n",
            "Total params: 7,949,824\n",
            "Trainable params: 7,882,249\n",
            "Non-trainable params: 67,575\n",
            "_________________________________________________________________\n"
          ]
        }
      ]
    },
    {
      "cell_type": "code",
      "source": [
        "model.compile(\n",
        "    optimizer=tf.keras.optimizers.Adam(learning_rate=0.001),\n",
        "    loss = 'categorical_crossentropy',\n",
        "    metrics=['accuracy' , tf.keras.metrics.Precision(name='precision'),tf.keras.metrics.Recall(name='recall')]\n",
        ")"
      ],
      "metadata": {
        "id": "kpGQwizCEbjz"
      },
      "execution_count": 22,
      "outputs": []
    },
    {
      "cell_type": "code",
      "source": [
        "# Train the model\n",
        "history = model.fit(\n",
        "    train_dataset,\n",
        "    steps_per_epoch=len(Train_paths)//BATCH_SIZE,\n",
        "    epochs=8,\n",
        "    validation_data=val_dataset,\n",
        "    validation_steps = len(Val_paths)//BATCH_SIZE,\n",
        "    class_weight=class_weight\n",
        ")"
      ],
      "metadata": {
        "colab": {
          "base_uri": "https://localhost:8080/"
        },
        "id": "Jtge5qgXEm5T",
        "outputId": "858c3b98-3f11-4a86-d257-ed8ce36e80a8"
      },
      "execution_count": 23,
      "outputs": [
        {
          "output_type": "stream",
          "name": "stdout",
          "text": [
            "Epoch 1/8\n",
            "717/717 [==============================] - 166s 144ms/step - loss: 2.8235 - accuracy: 0.3961 - precision: 0.6484 - recall: 0.1776 - val_loss: 1.3822 - val_accuracy: 0.5005 - val_precision: 0.6515 - val_recall: 0.3593\n",
            "Epoch 2/8\n",
            "717/717 [==============================] - 102s 142ms/step - loss: 2.3639 - accuracy: 0.4944 - precision: 0.6947 - recall: 0.2919 - val_loss: 1.4003 - val_accuracy: 0.4958 - val_precision: 0.6212 - val_recall: 0.3462\n",
            "Epoch 3/8\n",
            "717/717 [==============================] - 100s 139ms/step - loss: 2.2013 - accuracy: 0.5342 - precision: 0.7064 - recall: 0.3396 - val_loss: 1.1792 - val_accuracy: 0.5625 - val_precision: 0.6846 - val_recall: 0.4434\n",
            "Epoch 4/8\n",
            "717/717 [==============================] - 99s 138ms/step - loss: 2.0857 - accuracy: 0.5539 - precision: 0.7145 - recall: 0.3712 - val_loss: 1.1865 - val_accuracy: 0.5665 - val_precision: 0.6712 - val_recall: 0.4572\n",
            "Epoch 5/8\n",
            "717/717 [==============================] - 100s 139ms/step - loss: 1.9681 - accuracy: 0.5761 - precision: 0.7257 - recall: 0.4071 - val_loss: 1.2801 - val_accuracy: 0.5328 - val_precision: 0.6439 - val_recall: 0.3949\n",
            "Epoch 6/8\n",
            "717/717 [==============================] - 100s 140ms/step - loss: 1.9361 - accuracy: 0.5789 - precision: 0.7253 - recall: 0.4096 - val_loss: 1.1634 - val_accuracy: 0.5639 - val_precision: 0.6852 - val_recall: 0.4248\n",
            "Epoch 7/8\n",
            "717/717 [==============================] - 100s 139ms/step - loss: 1.8495 - accuracy: 0.5956 - precision: 0.7297 - recall: 0.4366 - val_loss: 1.1304 - val_accuracy: 0.5845 - val_precision: 0.6931 - val_recall: 0.4794\n",
            "Epoch 8/8\n",
            "717/717 [==============================] - 100s 140ms/step - loss: 1.7836 - accuracy: 0.6087 - precision: 0.7378 - recall: 0.4579 - val_loss: 1.1406 - val_accuracy: 0.5676 - val_precision: 0.6942 - val_recall: 0.4328\n"
          ]
        }
      ]
    },
    {
      "cell_type": "code",
      "source": [
        "model.layers[0].trainable = False"
      ],
      "metadata": {
        "id": "OTWaOr-EF1rl"
      },
      "execution_count": 24,
      "outputs": []
    },
    {
      "cell_type": "code",
      "source": [
        "checkpoint = tf.keras.callbacks.ModelCheckpoint(\"best_weights.h5\",verbose=1,save_best_only=True,save_weights_only = True)\n",
        "early_stop = tf.keras.callbacks.EarlyStopping(patience=4)"
      ],
      "metadata": {
        "id": "Gv9BJrhxOEgW"
      },
      "execution_count": 25,
      "outputs": []
    },
    {
      "cell_type": "code",
      "source": [
        "model.summary()"
      ],
      "metadata": {
        "colab": {
          "base_uri": "https://localhost:8080/"
        },
        "id": "-yxPgJLiO-b2",
        "outputId": "717fdf68-6fbb-43a7-cdaa-7c96012b61d5"
      },
      "execution_count": 26,
      "outputs": [
        {
          "output_type": "stream",
          "name": "stdout",
          "text": [
            "Model: \"sequential_3\"\n",
            "_________________________________________________________________\n",
            " Layer (type)                Output Shape              Param #   \n",
            "=================================================================\n",
            " efficientnetb2 (Functional)  (None, 3, 3, 1408)       7768569   \n",
            "                                                                 \n",
            " global_average_pooling2d_1   (None, 1408)             0         \n",
            " (GlobalAveragePooling2D)                                        \n",
            "                                                                 \n",
            " dropout_1 (Dropout)         (None, 1408)              0         \n",
            "                                                                 \n",
            " dense_2 (Dense)             (None, 128)               180352    \n",
            "                                                                 \n",
            " dense_3 (Dense)             (None, 7)                 903       \n",
            "                                                                 \n",
            "=================================================================\n",
            "Total params: 7,949,824\n",
            "Trainable params: 181,255\n",
            "Non-trainable params: 7,768,569\n",
            "_________________________________________________________________\n"
          ]
        }
      ]
    },
    {
      "cell_type": "code",
      "source": [
        "history = model.fit(\n",
        "    train_dataset,\n",
        "    steps_per_epoch=len(Train_paths)//BATCH_SIZE,\n",
        "    epochs=8,\n",
        "    callbacks=[checkpoint , early_stop],\n",
        "    validation_data=val_dataset,\n",
        "    validation_steps = len(Val_paths)//BATCH_SIZE,\n",
        "    class_weight=class_weight\n",
        ")"
      ],
      "metadata": {
        "colab": {
          "base_uri": "https://localhost:8080/"
        },
        "id": "WVMW7nScPBOx",
        "outputId": "4304c8d2-2166-49a1-a154-1535ecb0cfbb"
      },
      "execution_count": 27,
      "outputs": [
        {
          "output_type": "stream",
          "name": "stdout",
          "text": [
            "Epoch 1/8\n",
            "717/717 [==============================] - ETA: 0s - loss: 1.7215 - accuracy: 0.6214 - precision: 0.7427 - recall: 0.4800\n",
            "Epoch 1: val_loss improved from inf to 1.12136, saving model to best_weights.h5\n",
            "717/717 [==============================] - 100s 140ms/step - loss: 1.7215 - accuracy: 0.6214 - precision: 0.7427 - recall: 0.4800 - val_loss: 1.1214 - val_accuracy: 0.5873 - val_precision: 0.7108 - val_recall: 0.4523\n",
            "Epoch 2/8\n",
            "717/717 [==============================] - ETA: 0s - loss: 1.6841 - accuracy: 0.6240 - precision: 0.7469 - recall: 0.4833\n",
            "Epoch 2: val_loss improved from 1.12136 to 1.11958, saving model to best_weights.h5\n",
            "717/717 [==============================] - 101s 142ms/step - loss: 1.6841 - accuracy: 0.6240 - precision: 0.7469 - recall: 0.4833 - val_loss: 1.1196 - val_accuracy: 0.5843 - val_precision: 0.7046 - val_recall: 0.4621\n",
            "Epoch 3/8\n",
            "717/717 [==============================] - ETA: 0s - loss: 1.6408 - accuracy: 0.6322 - precision: 0.7491 - recall: 0.5007\n",
            "Epoch 3: val_loss improved from 1.11958 to 1.07189, saving model to best_weights.h5\n",
            "717/717 [==============================] - 101s 140ms/step - loss: 1.6408 - accuracy: 0.6322 - precision: 0.7491 - recall: 0.5007 - val_loss: 1.0719 - val_accuracy: 0.6105 - val_precision: 0.7186 - val_recall: 0.4904\n",
            "Epoch 4/8\n",
            "717/717 [==============================] - ETA: 0s - loss: 1.6315 - accuracy: 0.6367 - precision: 0.7551 - recall: 0.5108\n",
            "Epoch 4: val_loss improved from 1.07189 to 1.05704, saving model to best_weights.h5\n",
            "717/717 [==============================] - 100s 140ms/step - loss: 1.6315 - accuracy: 0.6367 - precision: 0.7551 - recall: 0.5108 - val_loss: 1.0570 - val_accuracy: 0.6105 - val_precision: 0.6991 - val_recall: 0.5143\n",
            "Epoch 5/8\n",
            "717/717 [==============================] - ETA: 0s - loss: 1.5147 - accuracy: 0.6555 - precision: 0.7620 - recall: 0.5363\n",
            "Epoch 5: val_loss did not improve from 1.05704\n",
            "717/717 [==============================] - 101s 141ms/step - loss: 1.5147 - accuracy: 0.6555 - precision: 0.7620 - recall: 0.5363 - val_loss: 1.0984 - val_accuracy: 0.6044 - val_precision: 0.6968 - val_recall: 0.5133\n",
            "Epoch 6/8\n",
            "717/717 [==============================] - ETA: 0s - loss: 1.5217 - accuracy: 0.6560 - precision: 0.7647 - recall: 0.5390\n",
            "Epoch 6: val_loss did not improve from 1.05704\n",
            "717/717 [==============================] - 100s 139ms/step - loss: 1.5217 - accuracy: 0.6560 - precision: 0.7647 - recall: 0.5390 - val_loss: 1.2817 - val_accuracy: 0.5442 - val_precision: 0.6305 - val_recall: 0.4468\n",
            "Epoch 7/8\n",
            "717/717 [==============================] - ETA: 0s - loss: 1.4780 - accuracy: 0.6667 - precision: 0.7675 - recall: 0.5573\n",
            "Epoch 7: val_loss did not improve from 1.05704\n",
            "717/717 [==============================] - 100s 140ms/step - loss: 1.4780 - accuracy: 0.6667 - precision: 0.7675 - recall: 0.5573 - val_loss: 1.1674 - val_accuracy: 0.5848 - val_precision: 0.6671 - val_recall: 0.5094\n",
            "Epoch 8/8\n",
            "717/717 [==============================] - ETA: 0s - loss: 1.3952 - accuracy: 0.6784 - precision: 0.7745 - recall: 0.5776\n",
            "Epoch 8: val_loss did not improve from 1.05704\n",
            "717/717 [==============================] - 101s 140ms/step - loss: 1.3952 - accuracy: 0.6784 - precision: 0.7745 - recall: 0.5776 - val_loss: 1.1422 - val_accuracy: 0.5944 - val_precision: 0.6890 - val_recall: 0.4965\n"
          ]
        }
      ]
    },
    {
      "cell_type": "code",
      "source": [
        "# Lets create Tesing dataset just like how we did for Training dataset\n",
        "\n",
        "test_image_paths = list(test_path.glob(\"*/*\"))\n",
        "test_image_paths = list(map(lambda x : str(x) , test_image_paths))\n",
        "test_labels = list(map(lambda x : get_label(x) , test_image_paths))\n",
        "\n",
        "test_labels = Le.transform(test_labels)\n",
        "test_labels = tf.keras.utils.to_categorical(test_labels)\n"
      ],
      "metadata": {
        "id": "n0rBKPImPGZh"
      },
      "execution_count": 28,
      "outputs": []
    },
    {
      "cell_type": "code",
      "source": [
        "AUTOTUNE = tf.data.experimental.AUTOTUNE\n",
        "def get_test_dataset(paths , labels ):\n",
        "    image_paths = tf.convert_to_tensor(paths)\n",
        "    labels = tf.convert_to_tensor(labels)\n",
        "\n",
        "    image_dataset = tf.data.Dataset.from_tensor_slices(image_paths)\n",
        "    label_dataset = tf.data.Dataset.from_tensor_slices(labels)\n",
        "\n",
        "    dataset = tf.data.Dataset.zip((image_dataset , label_dataset))\n",
        "\n",
        "    dataset = dataset.map(lambda image , label : load(image , label))\n",
        "    dataset = dataset.map(lambda image, label: (resize(image), label) , num_parallel_calls=AUTOTUNE)\n",
        "    dataset = dataset.batch(BATCH_SIZE)\n",
        "\n",
        "    return dataset"
      ],
      "metadata": {
        "id": "VGoqOvRuV_0W"
      },
      "execution_count": 29,
      "outputs": []
    },
    {
      "cell_type": "code",
      "source": [
        "test_dataset = get_test_dataset(test_image_paths, test_labels)"
      ],
      "metadata": {
        "id": "cYD9WbX9Wx-4"
      },
      "execution_count": 30,
      "outputs": []
    },
    {
      "cell_type": "code",
      "source": [
        "image , label = next(iter(test_dataset))\n",
        "print(image.shape)\n",
        "print(label.shape)"
      ],
      "metadata": {
        "colab": {
          "base_uri": "https://localhost:8080/"
        },
        "id": "iy5YVVouW7mX",
        "outputId": "6385ea6b-6b01-4867-f21a-01df9e1aa530"
      },
      "execution_count": 31,
      "outputs": [
        {
          "output_type": "stream",
          "name": "stdout",
          "text": [
            "(32, 96, 96, 3)\n",
            "(32, 7)\n"
          ]
        }
      ]
    },
    {
      "cell_type": "code",
      "source": [
        "print(Le.inverse_transform(np.argmax(label , axis = 1))[0])\n",
        "plt.imshow((image[0].numpy()/255).reshape(96 , 96 , 3))"
      ],
      "metadata": {
        "colab": {
          "base_uri": "https://localhost:8080/",
          "height": 303
        },
        "id": "dFgcHu5zXAbt",
        "outputId": "30704e68-6ee5-4946-fe4f-1d4e14f1169c"
      },
      "execution_count": 32,
      "outputs": [
        {
          "output_type": "stream",
          "name": "stdout",
          "text": [
            "angry\n"
          ]
        },
        {
          "output_type": "execute_result",
          "data": {
            "text/plain": [
              "<matplotlib.image.AxesImage at 0x7fd5bc396b80>"
            ]
          },
          "metadata": {},
          "execution_count": 32
        },
        {
          "output_type": "display_data",
          "data": {
            "text/plain": [
              "<Figure size 432x288 with 1 Axes>"
            ],
            "image/png": "[encoded data removed]"
          },
          "metadata": {
            "needs_background": "light"
          }
        }
      ]
    },
    {
      "cell_type": "code",
      "source": [
        "loss, acc, prec, rec = model.evaluate(test_dataset)\n",
        "\n",
        "print(\" Testing Acc : \" , acc)\n",
        "print(\" Testing Precision \" , prec)\n",
        "print(\" Testing Recall \" , rec)"
      ],
      "metadata": {
        "colab": {
          "base_uri": "https://localhost:8080/"
        },
        "id": "qI_4VsybXFKr",
        "outputId": "65f7a54a-2e56-4527-a9e3-08a1edd839fa"
      },
      "execution_count": 33,
      "outputs": [
        {
          "output_type": "stream",
          "name": "stdout",
          "text": [
            "225/225 [==============================] - 6s 27ms/step - loss: 1.1660 - accuracy: 0.5953 - precision: 0.6896 - recall: 0.4951\n",
            " Testing Acc :  0.5952911376953125\n",
            " Testing Precision  0.6895614862442017\n",
            " Testing Recall  0.4951239824295044\n"
          ]
        }
      ]
    },
    {
      "cell_type": "code",
      "source": [
        "# Save Model\n",
        "model.save(\"FacialExpressionModel.h5\")"
      ],
      "metadata": {
        "id": "GAQZO9z1XMrS"
      },
      "execution_count": null,
      "outputs": []
    },
    {
      "cell_type": "code",
      "source": [
        "# Save Label Encoder \n",
        "import pickle\n",
        "\n",
        "def save_object(obj , name):\n",
        "    pickle_obj = open(f\"{name}.pck\",\"wb\")\n",
        "    pickle.dump(obj, pickle_obj)\n",
        "    pickle_obj.close()"
      ],
      "metadata": {
        "id": "ehIAcAPJXT71"
      },
      "execution_count": 35,
      "outputs": []
    },
    {
      "cell_type": "code",
      "source": [
        "save_object(Le, \"LabelEncoder\")"
      ],
      "metadata": {
        "id": "0bZ0hmp0ZpOm"
      },
      "execution_count": 36,
      "outputs": []
    },
    {
      "cell_type": "code",
      "source": [],
      "metadata": {
        "id": "qopv-1bYCI_X"
      },
      "execution_count": null,
      "outputs": []
    }
  ]
}